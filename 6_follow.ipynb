{
 "cells": [
  {
   "cell_type": "code",
   "execution_count": 4,
   "id": "a9d4e84b",
   "metadata": {},
   "outputs": [
    {
     "name": "stdout",
     "output_type": "stream",
     "text": [
      "Follow(S) = {'$'}\n",
      "Follow(A) = {'$', 'e', 'd', 'f', 'c'}\n",
      "Follow(B) = {'f', '$', 'e'}\n",
      "Follow(C) = {'$'}\n"
     ]
    }
   ],
   "source": [
    "def compute_follow(grammar, first, start_symbol):\n",
    "    follow = {nt: set() for nt in grammar}  # Initialize follow sets for all non-terminals\n",
    "    follow[start_symbol].add('$')  # Start symbol always contains '$'\n",
    "\n",
    "    changed = True\n",
    "    while changed:\n",
    "        changed = False\n",
    "        for lhs in grammar:\n",
    "            for production in grammar[lhs]:\n",
    "                for i in range(len(production)):\n",
    "                    symbol = production[i]\n",
    "                    \n",
    "                    if symbol in grammar:  # Only compute FOLLOW for non-terminals\n",
    "                        # Initialize set to add\n",
    "                        trailer = set()\n",
    "                        \n",
    "                        # Look ahead in the production\n",
    "                        for j in range(i + 1, len(production)):\n",
    "                            next_symbol = production[j]\n",
    "                            \n",
    "                            if next_symbol not in grammar:  # Terminal\n",
    "                                trailer = {next_symbol}\n",
    "                                break\n",
    "                            else:  # Non-terminal\n",
    "                                trailer.update(first[next_symbol] - {'@'})\n",
    "                                if '@' in first[next_symbol]:\n",
    "                                    continue  # If @ is in the first set, keep looking\n",
    "                                else:\n",
    "                                    break\n",
    "                        else:\n",
    "                            # If nothing valid is to the right or all can be epsilon\n",
    "                            trailer.update(follow[lhs])  # Propagate FOLLOW of lhs\n",
    "\n",
    "                        # Update FOLLOW set if any new item is found\n",
    "                        before = len(follow[symbol])\n",
    "                        follow[symbol].update(trailer)\n",
    "                        if len(follow[symbol]) > before:\n",
    "                            changed = True\n",
    "    return follow\n",
    "\n",
    "# Example grammar and first sets\n",
    "grammar = {\n",
    "    'S': ['ABC'],\n",
    "    'A': ['a', 'b', '@'],\n",
    "    'B': ['c', 'd', '@'],\n",
    "    'C': ['e', 'f', '@']\n",
    "}\n",
    "\n",
    "first = {\n",
    "    'S': {'a', 'b', 'c', 'd', 'e', 'f', '@'},\n",
    "    'A': {'a', 'b', '@'},\n",
    "    'B': {'c', 'd', '@'},\n",
    "    'C': {'e', 'f', '@'}\n",
    "}\n",
    "\n",
    "start_symbol = 'S'\n",
    "\n",
    "follow = compute_follow(grammar, first, start_symbol)\n",
    "\n",
    "# Print follow sets\n",
    "for symbol, follow_set in follow.items():\n",
    "    print(f\"Follow({symbol}) = {follow_set}\")\n"
   ]
  },
  {
   "cell_type": "code",
   "execution_count": null,
   "id": "fe5d9e28",
   "metadata": {},
   "outputs": [],
   "source": []
  }
 ],
 "metadata": {
  "kernelspec": {
   "display_name": "Python 3 (ipykernel)",
   "language": "python",
   "name": "python3"
  },
  "language_info": {
   "codemirror_mode": {
    "name": "ipython",
    "version": 3
   },
   "file_extension": ".py",
   "mimetype": "text/x-python",
   "name": "python",
   "nbconvert_exporter": "python",
   "pygments_lexer": "ipython3",
   "version": "3.11.5"
  }
 },
 "nbformat": 4,
 "nbformat_minor": 5
}
