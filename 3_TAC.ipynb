{
 "cells": [
  {
   "cell_type": "code",
   "execution_count": 12,
   "id": "b00f9fb2",
   "metadata": {},
   "outputs": [
    {
     "name": "stdout",
     "output_type": "stream",
     "text": [
      "Enter the Expression: ((p*q)+(r*s)+(u/v))\n",
      "t1 = p * q;\n",
      "t2 = r * s;\n",
      "t3 = t1 + t2;\n",
      "t4 = u / v;\n",
      "t5 = t3 + t4;\n"
     ]
    }
   ],
   "source": [
    "\n",
    "opening_brackets = {\"(\": \")\", \"[\": \"]\", \"{\": \"}\"}\n",
    "closing_brackets = {\")\": \"(\", \"]\": \"[\", \"}\": \"{\"}\n",
    "operands = {\"+\", \"-\", \"/\", \"*\"}\n",
    "\n",
    "preference = {\n",
    "    \"+\": 1,\n",
    "    \"-\": 1,\n",
    "    \"*\": 2,\n",
    "    \"/\": 2\n",
    "}\n",
    "\n",
    "def infix_to_postfix(expression):\n",
    "    \n",
    "    stack = []\n",
    "    output = \"\"\n",
    "    \n",
    "    for token in expression:\n",
    "        \n",
    "        if token.isspace():\n",
    "            continue\n",
    "        \n",
    "        elif token.isalnum():\n",
    "            output += token\n",
    "        \n",
    "        elif token in opening_brackets:\n",
    "            stack.append(token)\n",
    "            \n",
    "        elif token in operands:\n",
    "            \n",
    "            while (stack and stack[-1] in operands and preference[token] <= preference[stack[-1]]):\n",
    "                output += stack.pop()\n",
    "            stack.append(token)\n",
    "\n",
    "        elif token in closing_brackets:\n",
    "            \n",
    "            while stack and stack[-1] != closing_brackets[token]:\n",
    "                output += stack.pop()\n",
    "            stack.pop()\n",
    "    \n",
    "    while stack:\n",
    "        output += stack.pop()\n",
    "        \n",
    "    return output\n",
    "\n",
    "def tac_generator(postfix_expression):\n",
    "    \n",
    "    stack = []\n",
    "    output = []\n",
    "    count_of_tac = 1\n",
    "    \n",
    "    for token in postfix_expression:\n",
    "        \n",
    "        if token.isalnum():\n",
    "            stack.append(token)\n",
    "        else:\n",
    "            b = stack.pop()\n",
    "            a = stack.pop()\n",
    "            temp = f\"t{count_of_tac}\"\n",
    "            exp = f\"t{count_of_tac} = {a} {token} {b};\"\n",
    "            output.append(exp)\n",
    "            stack.append(temp)\n",
    "            count_of_tac += 1\n",
    "            \n",
    "    return output\n",
    "\n",
    "expression = input(\"Enter the Expression: \")\n",
    "postfix_expression = infix_to_postfix(expression)\n",
    "tac = tac_generator(postfix_expression)\n",
    "\n",
    "for i in tac:\n",
    "    print(i)"
   ]
  },
  {
   "cell_type": "code",
   "execution_count": null,
   "id": "47f2c5bb",
   "metadata": {},
   "outputs": [],
   "source": []
  }
 ],
 "metadata": {
  "kernelspec": {
   "display_name": "Python 3 (ipykernel)",
   "language": "python",
   "name": "python3"
  },
  "language_info": {
   "codemirror_mode": {
    "name": "ipython",
    "version": 3
   },
   "file_extension": ".py",
   "mimetype": "text/x-python",
   "name": "python",
   "nbconvert_exporter": "python",
   "pygments_lexer": "ipython3",
   "version": "3.11.5"
  }
 },
 "nbformat": 4,
 "nbformat_minor": 5
}
