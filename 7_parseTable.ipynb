{
 "cells": [
  {
   "cell_type": "code",
   "execution_count": 2,
   "id": "2a6ffd6f",
   "metadata": {},
   "outputs": [
    {
     "name": "stdout",
     "output_type": "stream",
     "text": [
      "[L][(] = SQ\n",
      "[L][a] = SQ\n",
      "[Q][)] = @\n",
      "[Q][,] = ,SQ\n",
      "[S][(] = (L)\n",
      "[S][a] = a\n"
     ]
    }
   ],
   "source": [
    "from collections import defaultdict\n",
    "\n",
    "def generate_parse_table(grammar, first, follow):\n",
    "    table = defaultdict(dict)\n",
    "\n",
    "    # Ensure all terminal symbols have their own first sets\n",
    "    terminals = set()\n",
    "    for rules in grammar.values():\n",
    "        for prod in rules:\n",
    "            for symbol in prod:\n",
    "                if symbol not in grammar and symbol != '@':\n",
    "                    terminals.add(symbol)\n",
    "\n",
    "    for t in terminals:\n",
    "        if t not in first:\n",
    "            first[t] = {t}\n",
    "\n",
    "    first['@'] = {'@'}  # Add epsilon explicitly\n",
    "\n",
    "    for head in grammar:\n",
    "        for production in grammar[head]:\n",
    "            symbols = list(production)\n",
    "            first_set = set()\n",
    "\n",
    "            for symbol in symbols:\n",
    "                symbol_first = first.get(symbol, {symbol})\n",
    "                first_set |= symbol_first - {'@'}\n",
    "                if '@' not in symbol_first:\n",
    "                    break\n",
    "            else:\n",
    "                first_set.add('@')\n",
    "\n",
    "            for terminal in first_set - {'@'}:\n",
    "                table[head][terminal] = production\n",
    "\n",
    "            if '@' in first_set:\n",
    "                for terminal in follow[head]:\n",
    "                    table[head][terminal] = production\n",
    "\n",
    "    return table\n",
    "\n",
    "\n",
    "# Sample grammar, first and follow sets\n",
    "grammar = {\n",
    "    'S': ['(L)', 'a'],\n",
    "    'L': ['SQ'],\n",
    "    'Q': [',SQ', '@']\n",
    "}\n",
    "\n",
    "first = {\n",
    "    'S': {'(', 'a'},\n",
    "    'L': {'(', 'a'},\n",
    "    'Q': {',', '@'}\n",
    "}\n",
    "\n",
    "follow = {\n",
    "    'S': {'$', ',', ')'},\n",
    "    'L': {')'},\n",
    "    'Q': {')'}\n",
    "}\n",
    "\n",
    "# Generate and print the parse table\n",
    "parse_table = generate_parse_table(grammar, first, follow)\n",
    "\n",
    "for non_terminal in sorted(parse_table):\n",
    "    for terminal in sorted(parse_table[non_terminal]):\n",
    "        print(f\"[{non_terminal}][{terminal}] = {parse_table[non_terminal][terminal]}\")\n"
   ]
  },
  {
   "cell_type": "code",
   "execution_count": null,
   "id": "8b589f56",
   "metadata": {},
   "outputs": [],
   "source": []
  }
 ],
 "metadata": {
  "kernelspec": {
   "display_name": "Python 3 (ipykernel)",
   "language": "python",
   "name": "python3"
  },
  "language_info": {
   "codemirror_mode": {
    "name": "ipython",
    "version": 3
   },
   "file_extension": ".py",
   "mimetype": "text/x-python",
   "name": "python",
   "nbconvert_exporter": "python",
   "pygments_lexer": "ipython3",
   "version": "3.11.5"
  }
 },
 "nbformat": 4,
 "nbformat_minor": 5
}
