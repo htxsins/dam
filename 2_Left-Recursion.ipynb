{
 "cells": [
  {
   "cell_type": "code",
   "execution_count": 10,
   "id": "83036de4",
   "metadata": {},
   "outputs": [
    {
     "name": "stdout",
     "output_type": "stream",
     "text": [
      "Enter the No. of Productions: 1\n",
      "Enter Left Nonterminal of Production 1: A\n",
      "Enter Right Productions of A separated by (|): A a | b\n",
      "A →  b A'\n",
      "A' → a A' | @\n"
     ]
    }
   ],
   "source": [
    "def remove_left_recursion(grammar):\n",
    "    new_grammar = {}\n",
    "\n",
    "    for non_terminal in grammar:\n",
    "        alpha = []  # Left-recursive parts: A → A α\n",
    "        beta = []   # Non-left-recursive parts: A → β\n",
    "\n",
    "        for prod in grammar[non_terminal]:\n",
    "            tokens = prod.split()\n",
    "            if tokens and tokens[0] == non_terminal:\n",
    "                alpha.append(' '.join(tokens[1:]))\n",
    "            else:\n",
    "                beta.append(prod)\n",
    "\n",
    "        if alpha:\n",
    "            new_nt = non_terminal + \"'\"  # New non-terminal for recursion\n",
    "            while new_nt in grammar or new_nt in new_grammar:\n",
    "                new_nt += \"'\"  # Avoid name collisions\n",
    "\n",
    "            # A → β A'\n",
    "            new_grammar[non_terminal] = [b + ' ' + new_nt for b in beta]\n",
    "            # A' → α A' | ε\n",
    "            new_grammar[new_nt] = [a + ' ' + new_nt for a in alpha]\n",
    "            new_grammar[new_nt].append('@')  # Epsilon\n",
    "        else:\n",
    "            new_grammar[non_terminal] = grammar[non_terminal]\n",
    "\n",
    "    return new_grammar\n",
    "\n",
    "grammar = {}\n",
    "\n",
    "no_of_productions = int(input(\"Enter the No. of Productions: \"))\n",
    "\n",
    "for i in range(no_of_productions):\n",
    "    leftNonTerminal = input(f\"Enter Left Nonterminal of Production {i+1}: \")\n",
    "    rightProduction = input(f\"Enter Right Productions of {leftNonTerminal} separated by (|): \").split('|')\n",
    "    grammar[leftNonTerminal] = rightProduction\n",
    "\n",
    "new_grammar = remove_left_recursion(grammar)\n",
    "\n",
    "for nt in new_grammar:\n",
    "    print(f\"{nt} → {' | '.join(new_grammar[nt])}\")\n"
   ]
  },
  {
   "cell_type": "code",
   "execution_count": null,
   "id": "4fe12b4e",
   "metadata": {},
   "outputs": [],
   "source": []
  }
 ],
 "metadata": {
  "kernelspec": {
   "display_name": "Python 3 (ipykernel)",
   "language": "python",
   "name": "python3"
  },
  "language_info": {
   "codemirror_mode": {
    "name": "ipython",
    "version": 3
   },
   "file_extension": ".py",
   "mimetype": "text/x-python",
   "name": "python",
   "nbconvert_exporter": "python",
   "pygments_lexer": "ipython3",
   "version": "3.11.5"
  }
 },
 "nbformat": 4,
 "nbformat_minor": 5
}
