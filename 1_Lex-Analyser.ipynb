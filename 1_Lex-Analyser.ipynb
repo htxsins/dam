{
 "cells": [
  {
   "cell_type": "code",
   "execution_count": 2,
   "id": "1b931e5f",
   "metadata": {},
   "outputs": [
    {
     "name": "stdout",
     "output_type": "stream",
     "text": [
      "Enter number of lines: 1\n",
      "int a = 30;\n",
      "keywords: int\n",
      "operators: =\n",
      "separators: ;\n",
      "identifiers: a\n",
      "constants: 30\n"
     ]
    }
   ],
   "source": [
    "import re\n",
    "\n",
    "# Define token categories\n",
    "keywords = {\"int\", \"float\", \"double\", \"char\", \"if\", \"else\", \"for\"}\n",
    "operators = {\"+\", \"-\", \"*\", \"/\", \"%\", \"=\", \">\", \"<\", \">=\", \"<=\"}\n",
    "separators = {\",\", \";\", \"(\", \")\", \"{\", \"}\", \"[\", \"]\"}\n",
    "\n",
    "float_pattern = re.compile(r'^\\d+\\.\\d+$')\n",
    "\n",
    "# Result dictionary\n",
    "tokens = {\n",
    "    \"keywords\": set(),\n",
    "    \"operators\": set(),\n",
    "    \"separators\": set(),\n",
    "    \"identifiers\": set(),\n",
    "    \"constants\": set()\n",
    "}\n",
    "\n",
    "# Function to tokenize a line\n",
    "def split_line(line):\n",
    "    result = []\n",
    "    token = \"\"\n",
    "    for ch in line:\n",
    "        if ch.isspace() or ch in separators or ch in operators:\n",
    "            if token:\n",
    "                result.append(token)\n",
    "                token = \"\"\n",
    "            if ch in separators or ch in operators:\n",
    "                result.append(ch)\n",
    "        else:\n",
    "            token += ch\n",
    "    if token:\n",
    "        result.append(token)\n",
    "    return result\n",
    "\n",
    "# Main processing\n",
    "num_lines = int(input(\"Enter number of lines: \"))\n",
    "for _ in range(num_lines):\n",
    "    line = input()\n",
    "    for tok in split_line(line):\n",
    "        if not tok:\n",
    "            continue\n",
    "        if tok in keywords:\n",
    "            tokens[\"keywords\"].add(tok)\n",
    "        elif tok in operators:\n",
    "            tokens[\"operators\"].add(tok)\n",
    "        elif tok in separators:\n",
    "            tokens[\"separators\"].add(tok)\n",
    "        elif tok.isdigit() or float_pattern.match(tok):\n",
    "            tokens[\"constants\"].add(tok)\n",
    "        elif tok.startswith('\"') and tok.endswith('\"'):\n",
    "            tokens[\"constants\"].add(tok[1:-1])\n",
    "        else:\n",
    "            tokens[\"identifiers\"].add(tok)\n",
    "\n",
    "# Output\n",
    "for category, items in tokens.items():\n",
    "    print(f\"{category}: {' '.join(sorted(items))}\")\n"
   ]
  },
  {
   "cell_type": "code",
   "execution_count": null,
   "id": "c20bd536",
   "metadata": {},
   "outputs": [],
   "source": []
  }
 ],
 "metadata": {
  "kernelspec": {
   "display_name": "Python 3 (ipykernel)",
   "language": "python",
   "name": "python3"
  },
  "language_info": {
   "codemirror_mode": {
    "name": "ipython",
    "version": 3
   },
   "file_extension": ".py",
   "mimetype": "text/x-python",
   "name": "python",
   "nbconvert_exporter": "python",
   "pygments_lexer": "ipython3",
   "version": "3.11.5"
  }
 },
 "nbformat": 4,
 "nbformat_minor": 5
}
