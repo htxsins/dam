{
 "cells": [
  {
   "cell_type": "code",
   "execution_count": 1,
   "id": "00894ba2",
   "metadata": {},
   "outputs": [
    {
     "name": "stdout",
     "output_type": "stream",
     "text": [
      "MNT {'SUM': 0, 'INCR': 5}\n",
      "SUM &X,&Y\n",
      "LOAD &X\n",
      "ADD &Y\n",
      "STORE &X\n",
      "MEND\n",
      "INCR &Y\n",
      "ADD &Y\n",
      "STORE &Y\n",
      "MEND\n",
      " ALA : {'SUM': ['&X', '&Y'], 'INCR': ['&Y']}\n"
     ]
    }
   ],
   "source": [
    "def pass1(code):\n",
    "    MNT={}#dict\n",
    "    ALA={}#dict\n",
    "    MDT=[]#list\n",
    "\n",
    "    macro_name=''\n",
    "    inside_macro=False #initialize this false\n",
    "\n",
    "    for line in code:\n",
    "        line=line.strip() #remove leading and heading spaces\n",
    "\n",
    "        if line=='MACRO':\n",
    "            inside_macro=True\n",
    "            continue     #continue then\n",
    "\n",
    "        if line=='MEND':\n",
    "            inside_macro=False\n",
    "            macro_name=''\n",
    "            MDT.append(line)# append MEND\n",
    "            continue # again continue\n",
    "\n",
    "        if inside_macro:\n",
    "            if macro_name=='':  #if macro name not initiated setup\n",
    "                parts=line.split()\n",
    "                macro_name=parts[0]\n",
    "                args=parts[1].split(',') if len(parts)>1 else [] #start from part[1] and split by ',' >1\n",
    "                MNT[macro_name]=len(MDT) #start of mdt\n",
    "                ALA[macro_name]=args\n",
    "            MDT.append(line) #append line in MDT outside loop\n",
    "\n",
    "    return MNT,MDT,ALA\n",
    "\n",
    "code=[\n",
    "    'MACRO',\n",
    "    'SUM &X,&Y',\n",
    "    'LOAD &X',\n",
    "    'ADD &Y',\n",
    "    'STORE &X',\n",
    "    'MEND',\n",
    "    'MACRO',\n",
    "    'INCR &Y',\n",
    "    'ADD &Y',\n",
    "    'STORE &Y',\n",
    "    'MEND'\n",
    "]\n",
    "\n",
    "MNT,MDT,ALA=pass1(code)\n",
    "print(f'MNT {MNT}')\n",
    "for line in MDT:\n",
    "    print(line)\n",
    "print(F' ALA : {ALA}')\n",
    "\n",
    "\n"
   ]
  },
  {
   "cell_type": "code",
   "execution_count": null,
   "id": "d696762f",
   "metadata": {},
   "outputs": [],
   "source": []
  }
 ],
 "metadata": {
  "kernelspec": {
   "display_name": "Python 3 (ipykernel)",
   "language": "python",
   "name": "python3"
  },
  "language_info": {
   "codemirror_mode": {
    "name": "ipython",
    "version": 3
   },
   "file_extension": ".py",
   "mimetype": "text/x-python",
   "name": "python",
   "nbconvert_exporter": "python",
   "pygments_lexer": "ipython3",
   "version": "3.11.5"
  }
 },
 "nbformat": 4,
 "nbformat_minor": 5
}
