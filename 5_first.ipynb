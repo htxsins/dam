{
 "cells": [
  {
   "cell_type": "code",
   "execution_count": 45,
   "id": "17bcd684",
   "metadata": {},
   "outputs": [
    {
     "name": "stdout",
     "output_type": "stream",
     "text": [
      "Enter the Number of Productions: 4\n",
      "Enter Left NonTerminal: S\n",
      "Enter Rules: ABC\n",
      "Enter Left NonTerminal: A\n",
      "Enter Rules: a|b|@\n",
      "Enter Left NonTerminal: B\n",
      "Enter Rules: c|d|@\n",
      "Enter Left NonTerminal: C\n",
      "Enter Rules: e|f|@\n",
      "First(A) = {'b', 'a', '@'}\n",
      "First(B) = {'d', '@', 'c'}\n",
      "First(C) = {'@', 'e', 'f'}\n",
      "First(S) = {'d', '@', 'c', 'e', 'f', 'b', 'a'}\n",
      "{'A': {'b', 'a', '@'}, 'B': {'d', '@', 'c'}, 'C': {'@', 'e', 'f'}, 'S': {'d', '@', 'c', 'e', 'f', 'b', 'a'}}\n"
     ]
    },
    {
     "ename": "KeyboardInterrupt",
     "evalue": "Interrupted by user",
     "output_type": "error",
     "traceback": [
      "\u001b[1;31m---------------------------------------------------------------------------\u001b[0m",
      "\u001b[1;31mKeyboardInterrupt\u001b[0m                         Traceback (most recent call last)",
      "Cell \u001b[1;32mIn[45], line 48\u001b[0m\n\u001b[0;32m     45\u001b[0m \u001b[38;5;28mprint\u001b[39m(first)\n\u001b[0;32m     47\u001b[0m \u001b[38;5;28;01mif\u001b[39;00m \u001b[38;5;18m__name__\u001b[39m \u001b[38;5;241m==\u001b[39m \u001b[38;5;124m\"\u001b[39m\u001b[38;5;124m__main__\u001b[39m\u001b[38;5;124m\"\u001b[39m:\n\u001b[1;32m---> 48\u001b[0m     main()\n",
      "Cell \u001b[1;32mIn[44], line 28\u001b[0m, in \u001b[0;36mmain\u001b[1;34m()\u001b[0m\n\u001b[0;32m     27\u001b[0m \u001b[38;5;28;01mdef\u001b[39;00m \u001b[38;5;21mmain\u001b[39m():\n\u001b[1;32m---> 28\u001b[0m     n \u001b[38;5;241m=\u001b[39m \u001b[38;5;28mint\u001b[39m(\u001b[38;5;28minput\u001b[39m(\u001b[38;5;124m\"\u001b[39m\u001b[38;5;124mEnter the no. of productions: \u001b[39m\u001b[38;5;124m\"\u001b[39m))\n\u001b[0;32m     29\u001b[0m     grammar \u001b[38;5;241m=\u001b[39m {}\n\u001b[0;32m     31\u001b[0m     \u001b[38;5;28;01mfor\u001b[39;00m _ \u001b[38;5;129;01min\u001b[39;00m \u001b[38;5;28mrange\u001b[39m(n):\n",
      "File \u001b[1;32mC:\\ProgramData\\anaconda3\\Lib\\site-packages\\ipykernel\\kernelbase.py:1202\u001b[0m, in \u001b[0;36mKernel.raw_input\u001b[1;34m(self, prompt)\u001b[0m\n\u001b[0;32m   1200\u001b[0m     msg \u001b[38;5;241m=\u001b[39m \u001b[38;5;124m\"\u001b[39m\u001b[38;5;124mraw_input was called, but this frontend does not support input requests.\u001b[39m\u001b[38;5;124m\"\u001b[39m\n\u001b[0;32m   1201\u001b[0m     \u001b[38;5;28;01mraise\u001b[39;00m StdinNotImplementedError(msg)\n\u001b[1;32m-> 1202\u001b[0m \u001b[38;5;28;01mreturn\u001b[39;00m \u001b[38;5;28mself\u001b[39m\u001b[38;5;241m.\u001b[39m_input_request(\n\u001b[0;32m   1203\u001b[0m     \u001b[38;5;28mstr\u001b[39m(prompt),\n\u001b[0;32m   1204\u001b[0m     \u001b[38;5;28mself\u001b[39m\u001b[38;5;241m.\u001b[39m_parent_ident[\u001b[38;5;124m\"\u001b[39m\u001b[38;5;124mshell\u001b[39m\u001b[38;5;124m\"\u001b[39m],\n\u001b[0;32m   1205\u001b[0m     \u001b[38;5;28mself\u001b[39m\u001b[38;5;241m.\u001b[39mget_parent(\u001b[38;5;124m\"\u001b[39m\u001b[38;5;124mshell\u001b[39m\u001b[38;5;124m\"\u001b[39m),\n\u001b[0;32m   1206\u001b[0m     password\u001b[38;5;241m=\u001b[39m\u001b[38;5;28;01mFalse\u001b[39;00m,\n\u001b[0;32m   1207\u001b[0m )\n",
      "File \u001b[1;32mC:\\ProgramData\\anaconda3\\Lib\\site-packages\\ipykernel\\kernelbase.py:1245\u001b[0m, in \u001b[0;36mKernel._input_request\u001b[1;34m(self, prompt, ident, parent, password)\u001b[0m\n\u001b[0;32m   1242\u001b[0m \u001b[38;5;28;01mexcept\u001b[39;00m \u001b[38;5;167;01mKeyboardInterrupt\u001b[39;00m:\n\u001b[0;32m   1243\u001b[0m     \u001b[38;5;66;03m# re-raise KeyboardInterrupt, to truncate traceback\u001b[39;00m\n\u001b[0;32m   1244\u001b[0m     msg \u001b[38;5;241m=\u001b[39m \u001b[38;5;124m\"\u001b[39m\u001b[38;5;124mInterrupted by user\u001b[39m\u001b[38;5;124m\"\u001b[39m\n\u001b[1;32m-> 1245\u001b[0m     \u001b[38;5;28;01mraise\u001b[39;00m \u001b[38;5;167;01mKeyboardInterrupt\u001b[39;00m(msg) \u001b[38;5;28;01mfrom\u001b[39;00m \u001b[38;5;28;01mNone\u001b[39;00m\n\u001b[0;32m   1246\u001b[0m \u001b[38;5;28;01mexcept\u001b[39;00m \u001b[38;5;167;01mException\u001b[39;00m:\n\u001b[0;32m   1247\u001b[0m     \u001b[38;5;28mself\u001b[39m\u001b[38;5;241m.\u001b[39mlog\u001b[38;5;241m.\u001b[39mwarning(\u001b[38;5;124m\"\u001b[39m\u001b[38;5;124mInvalid Message:\u001b[39m\u001b[38;5;124m\"\u001b[39m, exc_info\u001b[38;5;241m=\u001b[39m\u001b[38;5;28;01mTrue\u001b[39;00m)\n",
      "\u001b[1;31mKeyboardInterrupt\u001b[0m: Interrupted by user"
     ]
    }
   ],
   "source": [
    "def first_of(symbol, grammar, first):\n",
    "    if symbol in first:\n",
    "        return first[symbol]\n",
    "    \n",
    "    result = set()\n",
    "    \n",
    "    for prod in grammar.get(symbol, []):\n",
    "        if prod == \"@\":\n",
    "            result.add(\"@\")\n",
    "        else:\n",
    "            for i in range(len(prod)):\n",
    "                sym = prod[i]\n",
    "                if sym not in grammar:\n",
    "                    result.add(sym)\n",
    "                    break\n",
    "                else:\n",
    "                    first_set = first_of(sym, grammar, first)\n",
    "                    result.update(first_set)\n",
    "                    if \"@\" not in first_set:\n",
    "                        break\n",
    "                    if i == len(prod) - 1:\n",
    "                        result.add(\"@\")\n",
    "    \n",
    "    first[symbol] = result\n",
    "    return result\n",
    "\n",
    "no_of_production = int(input(\"Enter the Number of Productions: \"))\n",
    "\n",
    "grammar = {}\n",
    "\n",
    "for _ in range(no_of_production):\n",
    "    \n",
    "    leftNonterminal = input(\"Enter Left NonTerminal: \")\n",
    "    rightRules = [x.strip() for x in input(\"Enter Rules: \").split('|')]\n",
    "    grammar[leftNonterminal] = rightRules\n",
    "\n",
    "first = {}\n",
    "    \n",
    "for left_symbol in grammar:\n",
    "    first_of(left_symbol, grammar, first)\n",
    "    \n",
    "for symbol, first_set in first.items():\n",
    "    print(f\"First({symbol}) = {first_set}\")"
   ]
  },
  {
   "cell_type": "code",
   "execution_count": null,
   "id": "f288b2fe",
   "metadata": {},
   "outputs": [],
   "source": []
  }
 ],
 "metadata": {
  "kernelspec": {
   "display_name": "Python 3 (ipykernel)",
   "language": "python",
   "name": "python3"
  },
  "language_info": {
   "codemirror_mode": {
    "name": "ipython",
    "version": 3
   },
   "file_extension": ".py",
   "mimetype": "text/x-python",
   "name": "python",
   "nbconvert_exporter": "python",
   "pygments_lexer": "ipython3",
   "version": "3.11.5"
  }
 },
 "nbformat": 4,
 "nbformat_minor": 5
}
