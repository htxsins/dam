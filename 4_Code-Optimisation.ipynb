{
 "cells": [
  {
   "cell_type": "code",
   "execution_count": 3,
   "id": "ef13c68a",
   "metadata": {},
   "outputs": [
    {
     "name": "stdout",
     "output_type": "stream",
     "text": [
      "Optimized Code:\n",
      "t1 = a + b\n",
      "t2 = 5\n",
      "t4 = 5 + t1\n",
      "t6 = a + t2\n",
      "t8 = t4 + 9\n",
      "t9 = t4 + 10\n"
     ]
    }
   ],
   "source": [
    "data = [\n",
    "    't1 = a + b',\n",
    "    't2 = 5',\n",
    "    't3 = a + b',\n",
    "    't4 = 5 + t3',\n",
    "    't5 = a + b',\n",
    "    't6 = a + t2',\n",
    "    't7 = 5 + t3',\n",
    "    't8 = t7 + 9',\n",
    "    't9 = t7 + 10'\n",
    "]\n",
    "\n",
    "def replace_all(expr, replacements):\n",
    "    for old, new in replacements.items():\n",
    "        expr = expr.replace(old, new)\n",
    "    return expr\n",
    "\n",
    "def optimize_tac(code_lines):\n",
    "    expr_to_name = {}\n",
    "    replacements = {}\n",
    "    optimized = []\n",
    "\n",
    "    for line in code_lines:\n",
    "        name, expr = [x.strip() for x in line.split('=')]\n",
    "        expr = replace_all(expr, replacements)\n",
    "\n",
    "        if expr in expr_to_name:\n",
    "            replacements[name] = expr_to_name[expr]\n",
    "        else:\n",
    "            expr_to_name[expr] = name\n",
    "            optimized.append(f\"{name} = {expr}\")\n",
    "\n",
    "    return optimized\n",
    "\n",
    "# Run optimizer\n",
    "optimized = optimize_tac(data)\n",
    "\n",
    "# Output\n",
    "print(\"Optimized Code:\")\n",
    "for line in optimized:\n",
    "    print(line)\n"
   ]
  }
 ],
 "metadata": {
  "kernelspec": {
   "display_name": "Python 3 (ipykernel)",
   "language": "python",
   "name": "python3"
  },
  "language_info": {
   "codemirror_mode": {
    "name": "ipython",
    "version": 3
   },
   "file_extension": ".py",
   "mimetype": "text/x-python",
   "name": "python",
   "nbconvert_exporter": "python",
   "pygments_lexer": "ipython3",
   "version": "3.11.5"
  }
 },
 "nbformat": 4,
 "nbformat_minor": 5
}
